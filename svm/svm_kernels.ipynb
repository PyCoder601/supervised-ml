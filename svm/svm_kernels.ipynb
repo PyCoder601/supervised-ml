{
 "cells": [
  {
   "cell_type": "code",
   "id": "initial_id",
   "metadata": {
    "collapsed": true,
    "ExecuteTime": {
     "end_time": "2025-09-07T06:57:36.385154Z",
     "start_time": "2025-09-07T06:57:36.379015Z"
    }
   },
   "source": [
    "import  numpy as np\n",
    "import matplotlib.pyplot as plt\n",
    "\n",
    "x = np.linspace(-5.0, 5.0, 100)\n",
    "y = np.sqrt(10**2 - x**2)\n",
    "\n",
    "y = np.hstack((y, -y))\n",
    "x = np.hstack((x, -x))\n"
   ],
   "outputs": [],
   "execution_count": 5
  },
  {
   "metadata": {
    "ExecuteTime": {
     "end_time": "2025-09-07T07:02:28.833148Z",
     "start_time": "2025-09-07T07:02:28.810782Z"
    }
   },
   "cell_type": "code",
   "source": [
    "x1 = np.linspace(-5.0, 5.0, 100)\n",
    "y1 = np.sqrt(5**2 - x1**2)\n",
    "y1 = np.hstack((y1, -y1))\n",
    "x1 = np.hstack((x1, -x1))\n"
   ],
   "id": "bc7708b7ac87f9e1",
   "outputs": [],
   "execution_count": 8
  },
  {
   "metadata": {
    "ExecuteTime": {
     "end_time": "2025-09-07T07:04:51.305916Z",
     "start_time": "2025-09-07T07:04:51.018012Z"
    }
   },
   "cell_type": "code",
   "source": [
    "plt.scatter(y, x, color=\"red\")\n",
    "plt.scatter(y1, x1, color=\"blue\")\n"
   ],
   "id": "12217d385c092e60",
   "outputs": [
    {
     "data": {
      "text/plain": [
       "<matplotlib.collections.PathCollection at 0x77acb1205250>"
      ]
     },
     "execution_count": 14,
     "metadata": {},
     "output_type": "execute_result"
    },
    {
     "data": {
      "text/plain": [
       "<Figure size 640x480 with 1 Axes>"
      ],
      "image/png": "[encoded data removed]"
     },
     "metadata": {},
     "output_type": "display_data",
     "jetTransient": {
      "display_id": null
     }
    }
   ],
   "execution_count": 14
  },
  {
   "metadata": {
    "ExecuteTime": {
     "end_time": "2025-09-07T07:17:26.867118Z",
     "start_time": "2025-09-07T07:17:26.840469Z"
    }
   },
   "cell_type": "code",
   "source": [
    "import pandas as pd\n",
    "df1 = pd.DataFrame(np.vstack((x, y)).T, columns=[\"x1\", \"x2\"])\n",
    "df1[\"Y\"] = 0\n",
    "df2 = pd.DataFrame(np.vstack((x1, y1)).T, columns=[\"x1\", \"x2\"])\n",
    "df2[\"Y\"] = 1\n",
    "df = pd.concat([df1, df2])\n",
    "df.tail()\n"
   ],
   "id": "1bf70b2e9096db01",
   "outputs": [
    {
     "data": {
      "text/plain": [
       "          x1        x2  Y\n",
       "195 -4.59596 -1.969049  1\n",
       "196 -4.69697 -1.714198  1\n",
       "197 -4.79798 -1.406908  1\n",
       "198 -4.89899 -0.999949  1\n",
       "199 -5.00000 -0.000000  1"
      ],
      "text/html": [
       "<div>\n",
       "<style scoped>\n",
       "    .dataframe tbody tr th:only-of-type {\n",
       "        vertical-align: middle;\n",
       "    }\n",
       "\n",
       "    .dataframe tbody tr th {\n",
       "        vertical-align: top;\n",
       "    }\n",
       "\n",
       "    .dataframe thead th {\n",
       "        text-align: right;\n",
       "    }\n",
       "</style>\n",
       "<table border=\"1\" class=\"dataframe\">\n",
       "  <thead>\n",
       "    <tr style=\"text-align: right;\">\n",
       "      <th></th>\n",
       "      <th>x1</th>\n",
       "      <th>x2</th>\n",
       "      <th>Y</th>\n",
       "    </tr>\n",
       "  </thead>\n",
       "  <tbody>\n",
       "    <tr>\n",
       "      <th>195</th>\n",
       "      <td>-4.59596</td>\n",
       "      <td>-1.969049</td>\n",
       "      <td>1</td>\n",
       "    </tr>\n",
       "    <tr>\n",
       "      <th>196</th>\n",
       "      <td>-4.69697</td>\n",
       "      <td>-1.714198</td>\n",
       "      <td>1</td>\n",
       "    </tr>\n",
       "    <tr>\n",
       "      <th>197</th>\n",
       "      <td>-4.79798</td>\n",
       "      <td>-1.406908</td>\n",
       "      <td>1</td>\n",
       "    </tr>\n",
       "    <tr>\n",
       "      <th>198</th>\n",
       "      <td>-4.89899</td>\n",
       "      <td>-0.999949</td>\n",
       "      <td>1</td>\n",
       "    </tr>\n",
       "    <tr>\n",
       "      <th>199</th>\n",
       "      <td>-5.00000</td>\n",
       "      <td>-0.000000</td>\n",
       "      <td>1</td>\n",
       "    </tr>\n",
       "  </tbody>\n",
       "</table>\n",
       "</div>"
      ]
     },
     "execution_count": 23,
     "metadata": {},
     "output_type": "execute_result"
    }
   ],
   "execution_count": 23
  },
  {
   "metadata": {
    "ExecuteTime": {
     "end_time": "2025-09-07T07:31:02.187524Z",
     "start_time": "2025-09-07T07:31:02.164192Z"
    }
   },
   "cell_type": "code",
   "source": [
    "df[\"x1_square\"] = df['x1']**2\n",
    "df[\"x2_square\"] = df['x2']**2\n",
    "df[\"x1x2\"] = (df[\"x1\"] * df[\"x2\"])\n",
    "df.head()\n"
   ],
   "id": "1d0dd0ee8c50ab7e",
   "outputs": [
    {
     "data": {
      "text/plain": [
       "        x1        x2  Y  x1_square  x2_square       x1x2\n",
       "0 -5.00000  8.660254  0  25.000000  75.000000 -43.301270\n",
       "1 -4.89899  8.717792  0  24.000102  75.999898 -42.708375\n",
       "2 -4.79798  8.773790  0  23.020610  76.979390 -42.096467\n",
       "3 -4.69697  8.828277  0  22.061524  77.938476 -41.466150\n",
       "4 -4.59596  8.881281  0  21.122845  78.877155 -40.818009"
      ],
      "text/html": [
       "<div>\n",
       "<style scoped>\n",
       "    .dataframe tbody tr th:only-of-type {\n",
       "        vertical-align: middle;\n",
       "    }\n",
       "\n",
       "    .dataframe tbody tr th {\n",
       "        vertical-align: top;\n",
       "    }\n",
       "\n",
       "    .dataframe thead th {\n",
       "        text-align: right;\n",
       "    }\n",
       "</style>\n",
       "<table border=\"1\" class=\"dataframe\">\n",
       "  <thead>\n",
       "    <tr style=\"text-align: right;\">\n",
       "      <th></th>\n",
       "      <th>x1</th>\n",
       "      <th>x2</th>\n",
       "      <th>Y</th>\n",
       "      <th>x1_square</th>\n",
       "      <th>x2_square</th>\n",
       "      <th>x1x2</th>\n",
       "    </tr>\n",
       "  </thead>\n",
       "  <tbody>\n",
       "    <tr>\n",
       "      <th>0</th>\n",
       "      <td>-5.00000</td>\n",
       "      <td>8.660254</td>\n",
       "      <td>0</td>\n",
       "      <td>25.000000</td>\n",
       "      <td>75.000000</td>\n",
       "      <td>-43.301270</td>\n",
       "    </tr>\n",
       "    <tr>\n",
       "      <th>1</th>\n",
       "      <td>-4.89899</td>\n",
       "      <td>8.717792</td>\n",
       "      <td>0</td>\n",
       "      <td>24.000102</td>\n",
       "      <td>75.999898</td>\n",
       "      <td>-42.708375</td>\n",
       "    </tr>\n",
       "    <tr>\n",
       "      <th>2</th>\n",
       "      <td>-4.79798</td>\n",
       "      <td>8.773790</td>\n",
       "      <td>0</td>\n",
       "      <td>23.020610</td>\n",
       "      <td>76.979390</td>\n",
       "      <td>-42.096467</td>\n",
       "    </tr>\n",
       "    <tr>\n",
       "      <th>3</th>\n",
       "      <td>-4.69697</td>\n",
       "      <td>8.828277</td>\n",
       "      <td>0</td>\n",
       "      <td>22.061524</td>\n",
       "      <td>77.938476</td>\n",
       "      <td>-41.466150</td>\n",
       "    </tr>\n",
       "    <tr>\n",
       "      <th>4</th>\n",
       "      <td>-4.59596</td>\n",
       "      <td>8.881281</td>\n",
       "      <td>0</td>\n",
       "      <td>21.122845</td>\n",
       "      <td>78.877155</td>\n",
       "      <td>-40.818009</td>\n",
       "    </tr>\n",
       "  </tbody>\n",
       "</table>\n",
       "</div>"
      ]
     },
     "execution_count": 34,
     "metadata": {},
     "output_type": "execute_result"
    }
   ],
   "execution_count": 34
  },
  {
   "metadata": {
    "ExecuteTime": {
     "end_time": "2025-09-07T07:23:32.944360Z",
     "start_time": "2025-09-07T07:23:32.925537Z"
    }
   },
   "cell_type": "code",
   "source": [
    "X = df[[\"x1\", \"x2\", \"x1_square\", \"x2_square\", \"x1x2\"]]\n",
    "y = df['Y']"
   ],
   "id": "470d3af6a757eab1",
   "outputs": [],
   "execution_count": 29
  },
  {
   "metadata": {
    "ExecuteTime": {
     "end_time": "2025-09-07T07:34:08.155388Z",
     "start_time": "2025-09-07T07:34:07.989917Z"
    }
   },
   "cell_type": "code",
   "source": [
    "import plotly.express as px\n",
    "fig = px.scatter_3d(df, x=\"x1_square\", y=\"x2_square\", z=\"x1x2\", color=\"Y\")\n",
    "fig.show()\n"
   ],
   "id": "9dd051c7b7bceace",
   "outputs": [
    {
     "data": {
      "application/vnd.plotly.v1+json": {
       "data": [
        {
         "hovertemplate": "x1_square=%{x}<br>x2_square=%{y}<br>x1x2=%{z}<br>Y=%{marker.color}<extra></extra>",
         "legendgroup": "",
         "marker": {
          "color": {
           "dtype": "i1",
           "bdata": "AAAAAAAAAAAAAAAAAAAAAAAAAAAAAAAAAAAAAAAAAAAAAAAAAAAAAAAAAAAAAAAAAAAAAAAAAAAAAAAAAAAAAAAAAAAAAAAAAAAAAAAAAAAAAAAAAAAAAAAAAAAAAAAAAAAAAAAAAAAAAAAAAAAAAAAAAAAAAAAAAAAAAAAAAAAAAAAAAAAAAAAAAAAAAAAAAAAAAAAAAAAAAAAAAAAAAAAAAAAAAAAAAAAAAAAAAAAAAAAAAAAAAAAAAAAAAAAAAAAAAAAAAAABAQEBAQEBAQEBAQEBAQEBAQEBAQEBAQEBAQEBAQEBAQEBAQEBAQEBAQEBAQEBAQEBAQEBAQEBAQEBAQEBAQEBAQEBAQEBAQEBAQEBAQEBAQEBAQEBAQEBAQEBAQEBAQEBAQEBAQEBAQEBAQEBAQEBAQEBAQEBAQEBAQEBAQEBAQEBAQEBAQEBAQEBAQEBAQEBAQEBAQEBAQEBAQEBAQEBAQEBAQEBAQEBAQEBAQEBAQEBAQEBAQEBAQEBAQEBAQEBAQEBAQEBAQ=="
          },
          "coloraxis": "coloraxis",
          "symbol": "circle"
         },
         "mode": "markers",
         "name": "",
         "scene": "scene",
         "showlegend": false,
         "x": {
          "dtype": "f8",
          "bdata": "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"
         },
         "y": {
          "dtype": "f8",
          "bdata": "AQAAAADAUkDQrw1U/v9SQBS6zFKuPlNAzR49/A98U0D23V5QI7hTQJf3MU/o8lNAq2u2+F4sVEAzOuxMh2RUQC5j00thm1RAnOZr9ezQVECAxLVJKgVVQNb8sEgZOFVAoo9d8rlpVUDifLtGDJpVQJPEykUQyVVAu2aL78X2VUBVY/1DLSNWQGO6IENGTlZA5mv17BB4VkDed3tBjaBWQEjeskC7x1ZAJZ+b6prtVkB4ujU/LBJXQD8wgT5vNVdAeAB+6GNXV0AlKyw9CnhXQEewizxil1dA3o+c5mu1V0DoyV47J9JXQGZe0jqU7VdAV0335LIHWEC9ls05gyBYQJY6VTkFOFhA5TiO4zhOWECkkXg4HmNYQNlEFDi1dlhAg1Jh4v2IWEChul83+JlYQDB9DzekqVhANppw4QG4WECuEYM2EcVYQJ3jRjbS0FhA/A+84ETbWEDQluI1aeRYQBp4ujU/7FhA1bND4MbyWEAGSn41APhYQKk6ajXr+1hAwoUH4If+WEBPK1Y11v9YQE8rVjXW/1hAwoUH4If+WECpOmo16/tYQAZKfjUA+FhA1bND4MbyWEAaeLo1P+xYQNCW4jVp5FhA/A+84ETbWECd40Y20tBYQK4RgzYRxVhANppw4QG4WEAwfQ83pKlYQKG6Xzf4mVhAg1Jh4v2IWEDZRBQ4tXZYQKSReDgeY1hA5TiO4zhOWECWOlU5BThYQL2WzTmDIFhAV0335LIHWEBmXtI6lO1XQOjJXjsn0ldA3o+c5mu1V0BHsIs8YpdXQCUrLD0KeFdAegB+6GNXV0A/MIE+bzVXQHi6NT8sEldAJZ+b6prtVkBI3rJAu8dWQN53e0GNoFZA5mv17BB4VkBjuiBDRk5WQFVj/UMtI1ZAu2aL78X2VUCTxMpFEMlVQOJ8u0YMmlVAoo9d8rlpVUDW/LBIGThVQIDEtUkqBVVAnOZr9ezQVEAuY9NLYZtUQDM67EyHZFRAq2u2+F4sVECX9zFP6PJTQPndXlAjuFNAzR49/A98U0AUusxSrj5TQNCvDVT+/1JAAQAAAADAUkABAAAAAMBSQNCvDVT+/1JAFLrMUq4+U0DNHj38D3xTQPbdXlAjuFNAl/cxT+jyU0Cra7b4XixUQDM67EyHZFRALmPTS2GbVECc5mv17NBUQIDEtUkqBVVA1vywSBk4VUCij13yuWlVQOJ8u0YMmlVAk8TKRRDJVUC7ZovvxfZVQFVj/UMtI1ZAY7ogQ0ZOVkDma/XsEHhWQN53e0GNoFZASN6yQLvHVkAln5vqmu1WQHi6NT8sEldAPzCBPm81V0B4AH7oY1dXQCUrLD0KeFdAR7CLPGKXV0Dej5zma7VXQOjJXjsn0ldAZl7SOpTtV0BXTffksgdYQL2WzTmDIFhAljpVOQU4WEDlOI7jOE5YQKSReDgeY1hA2UQUOLV2WECDUmHi/YhYQKG6Xzf4mVhAMH0PN6SpWEA2mnDhAbhYQK4RgzYRxVhAneNGNtLQWED8D7zgRNtYQNCW4jVp5FhAGni6NT/sWEDVs0PgxvJYQAZKfjUA+FhAqTpqNev7WEDChQfgh/5YQE8rVjXW/1hATytWNdb/WEDChQfgh/5YQKk6ajXr+1hABkp+NQD4WEDVs0PgxvJYQBp4ujU/7FhA0JbiNWnkWED8D7zgRNtYQJ3jRjbS0FhArhGDNhHFWEA2mnDhAbhYQDB9DzekqVhAobpfN/iZWECDUmHi/YhYQNlEFDi1dlhApJF4OB5jWEDlOI7jOE5YQJY6VTkFOFhAvZbNOYMgWEBXTffksgdYQGZe0jqU7VdA6MleOyfSV0Dej5zma7VXQEewizxil1dAJSssPQp4V0B6AH7oY1dXQD8wgT5vNVdAeLo1PywSV0Aln5vqmu1WQEjeskC7x1ZA3nd7QY2gVkDma/XsEHhWQGO6IENGTlZAVWP9Qy0jVkC7ZovvxfZVQJPEykUQyVVA4ny7RgyaVUCij13yuWlVQNb8sEgZOFVAgMS1SSoFVUCc5mv17NBUQC5j00thm1RAMzrsTIdkVECra7b4XixUQJf3MU/o8lNA+d1eUCO4U0DNHj38D3xTQBS6zFKuPlNA0K8NVP7/UkABAAAAAMBSQAAAAAAAAAAAAOjXBir/7z8BhS6zlKv/P2/Zo4f/gQdA577bC2oED0BweR/zhC4TQKu6ZovvxRZAG6PDznRIGkDTMja9FLYdQOM0X6tnhyBAACSuTVIpIkC45odFysAjQA597JLPTSVACOfbNWLQJkCgJFYugkgoQNY1W3wvtilAqhrrH2oZK0Ah0wUZMnIsQDRfq2eHwC1A6b7bC2oEL0AeecsC7R4wQJh8bqprtjBA4OnW/LBIMUD5wAT6vNUxQOEB+KGPXTJAmqyw9CjgMkAhwS7yiF0zQHg/cpqv1TNAoSd77ZxINECWeUnrULY0QF413ZPLHjVA8lo25wyCNUBa6lTlFOA1QI/jOI7jODZAkkbi4XiMNkBpE1Hg1No2QA5KhYn3IzdAgup+3eBnN0DE9D3ckKY3QNhowoUH4DdAvEYM2kQUOEBujhvZSEM4QPI/8IITbThAQ1uK16SROEBm4OnW/LA4QFjPDoEbyzhAGCj51QDgOECp6qjVrO84QAsXHoAf+jhAOa1Y1Vj/OEA5rVjVWP84QAsXHoAf+jhAqeqo1azvOEAYKPnVAOA4QFjPDoEbyzhAZuDp1vywOEBDW4rXpJE4QPI/8IITbThAbo4b2UhDOEC8RgzaRBQ4QNhowoUH4DdAxPQ93JCmN0CC6n7d4Gc3QA5KhYn3IzdAaRNR4NTaNkCSRuLheIw2QI/jOI7jODZAWupU5RTgNUDyWjbnDII1QF413ZPLHjVAlnlJ61C2NEChJ3vtnEg0QHg/cpqv1TNAIcEu8ohdM0CarLD0KOAyQOEB+KGPXTJA+8AE+rzVMUDg6db8sEgxQJh8bqprtjBAIHnLAu0eMEDnvtsLagQvQDRfq2eHwC1AI9MFGTJyLECqGusfahkrQNc1W3wvtilAnCRWLoJIKEAI59s1YtAmQBN97JLPTSVAtuaHRcrAI0AAJK5NUikiQOg0X6tnhyBA0zI2vRS2HUAjo8POdEgaQJ+6ZovvxRZAcHkf84QuE0D5vtsLagQPQG/Zo4f/gQdAAYUus5Sr/z/A59cGKv/vPwAAAAAAAAAAAAAAAAAAAAAA6NcGKv/vPwGFLrOUq/8/b9mjh/+BB0DnvtsLagQPQHB5H/OELhNAq7pmi+/FFkAbo8POdEgaQNMyNr0Uth1A4zRfq2eHIEAAJK5NUikiQLjmh0XKwCNADn3sks9NJUAI59s1YtAmQKAkVi6CSChA1jVbfC+2KUCqGusfahkrQCHTBRkycixANF+rZ4fALUDpvtsLagQvQB55ywLtHjBAmHxuqmu2MEDg6db8sEgxQPnABPq81TFA4QH4oY9dMkCarLD0KOAyQCHBLvKIXTNAeD9ymq/VM0ChJ3vtnEg0QJZ5SetQtjRAXjXdk8seNUDyWjbnDII1QFrqVOUU4DVAj+M4juM4NkCSRuLheIw2QGkTUeDU2jZADkqFifcjN0CC6n7d4Gc3QMT0PdyQpjdA2GjChQfgN0C8RgzaRBQ4QG6OG9lIQzhA8j/wghNtOEBDW4rXpJE4QGbg6db8sDhAWM8OgRvLOEAYKPnVAOA4QKnqqNWs7zhACxcegB/6OEA5rVjVWP84QDmtWNVY/zhACxcegB/6OECp6qjVrO84QBgo+dUA4DhAWM8OgRvLOEBm4OnW/LA4QENbitekkThA8j/wghNtOEBujhvZSEM4QLxGDNpEFDhA2GjChQfgN0DE9D3ckKY3QILqft3gZzdADkqFifcjN0BpE1Hg1No2QJJG4uF4jDZAj+M4juM4NkBa6lTlFOA1QPJaNucMgjVAXjXdk8seNUCWeUnrULY0QKEne+2cSDRAeD9ymq/VM0AhwS7yiF0zQJqssPQo4DJA4QH4oY9dMkD7wAT6vNUxQODp1vywSDFAmHxuqmu2MEAgecsC7R4wQOe+2wtqBC9ANF+rZ4fALUAj0wUZMnIsQKoa6x9qGStA1zVbfC+2KUCcJFYugkgoQAjn2zVi0CZAE33sks9NJUC25odFysAjQAAkrk1SKSJA6DRfq2eHIEDTMja9FLYdQCOjw850SBpAn7pmi+/FFkBweR/zhC4TQPm+2wtqBA9Ab9mjh/+BB0ABhS6zlKv/P8Dn1wYq/+8/AAAAAAAAAAA="
         },
         "z": {
          "dtype": "f8",
          "bdata": "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"
         },
         "type": "scatter3d"
        }
       ],
       "layout": {
        "template": {
         "data": {
          "histogram2dcontour": [
           {
            "type": "histogram2dcontour",
            "colorbar": {
             "outlinewidth": 0,
             "ticks": ""
            },
            "colorscale": [
             [
              0.0,
              "#0d0887"
             ],
             [
              0.1111111111111111,
              "#46039f"
             ],
             [
              0.2222222222222222,
              "#7201a8"
             ],
             [
              0.3333333333333333,
              "#9c179e"
             ],
             [
              0.4444444444444444,
              "#bd3786"
             ],
             [
              0.5555555555555556,
              "#d8576b"
             ],
             [
              0.6666666666666666,
              "#ed7953"
             ],
             [
              0.7777777777777778,
              "#fb9f3a"
             ],
             [
              0.8888888888888888,
              "#fdca26"
             ],
             [
              1.0,
              "#f0f921"
             ]
            ]
           }
          ],
          "choropleth": [
           {
            "type": "choropleth",
            "colorbar": {
             "outlinewidth": 0,
             "ticks": ""
            }
           }
          ],
          "histogram2d": [
           {
            "type": "histogram2d",
            "colorbar": {
             "outlinewidth": 0,
             "ticks": ""
            },
            "colorscale": [
             [
              0.0,
              "#0d0887"
             ],
             [
              0.1111111111111111,
              "#46039f"
             ],
             [
              0.2222222222222222,
              "#7201a8"
             ],
             [
              0.3333333333333333,
              "#9c179e"
             ],
             [
              0.4444444444444444,
              "#bd3786"
             ],
             [
              0.5555555555555556,
              "#d8576b"
             ],
             [
              0.6666666666666666,
              "#ed7953"
             ],
             [
              0.7777777777777778,
              "#fb9f3a"
             ],
             [
              0.8888888888888888,
              "#fdca26"
             ],
             [
              1.0,
              "#f0f921"
             ]
            ]
           }
          ],
          "heatmap": [
           {
            "type": "heatmap",
            "colorbar": {
             "outlinewidth": 0,
             "ticks": ""
            },
            "colorscale": [
             [
              0.0,
              "#0d0887"
             ],
             [
              0.1111111111111111,
              "#46039f"
             ],
             [
              0.2222222222222222,
              "#7201a8"
             ],
             [
              0.3333333333333333,
              "#9c179e"
             ],
             [
              0.4444444444444444,
              "#bd3786"
             ],
             [
              0.5555555555555556,
              "#d8576b"
             ],
             [
              0.6666666666666666,
              "#ed7953"
             ],
             [
              0.7777777777777778,
              "#fb9f3a"
             ],
             [
              0.8888888888888888,
              "#fdca26"
             ],
             [
              1.0,
              "#f0f921"
             ]
            ]
           }
          ],
          "contourcarpet": [
           {
            "type": "contourcarpet",
            "colorbar": {
             "outlinewidth": 0,
             "ticks": ""
            }
           }
          ],
          "contour": [
           {
            "type": "contour",
            "colorbar": {
             "outlinewidth": 0,
             "ticks": ""
            },
            "colorscale": [
             [
              0.0,
              "#0d0887"
             ],
             [
              0.1111111111111111,
              "#46039f"
             ],
             [
              0.2222222222222222,
              "#7201a8"
             ],
             [
              0.3333333333333333,
              "#9c179e"
             ],
             [
              0.4444444444444444,
              "#bd3786"
             ],
             [
              0.5555555555555556,
              "#d8576b"
             ],
             [
              0.6666666666666666,
              "#ed7953"
             ],
             [
              0.7777777777777778,
              "#fb9f3a"
             ],
             [
              0.8888888888888888,
              "#fdca26"
             ],
             [
              1.0,
              "#f0f921"
             ]
            ]
           }
          ],
          "surface": [
           {
            "type": "surface",
            "colorbar": {
             "outlinewidth": 0,
             "ticks": ""
            },
            "colorscale": [
             [
              0.0,
              "#0d0887"
             ],
             [
              0.1111111111111111,
              "#46039f"
             ],
             [
              0.2222222222222222,
              "#7201a8"
             ],
             [
              0.3333333333333333,
              "#9c179e"
             ],
             [
              0.4444444444444444,
              "#bd3786"
             ],
             [
              0.5555555555555556,
              "#d8576b"
             ],
             [
              0.6666666666666666,
              "#ed7953"
             ],
             [
              0.7777777777777778,
              "#fb9f3a"
             ],
             [
              0.8888888888888888,
              "#fdca26"
             ],
             [
              1.0,
              "#f0f921"
             ]
            ]
           }
          ],
          "mesh3d": [
           {
            "type": "mesh3d",
            "colorbar": {
             "outlinewidth": 0,
             "ticks": ""
            }
           }
          ],
          "scatter": [
           {
            "fillpattern": {
             "fillmode": "overlay",
             "size": 10,
             "solidity": 0.2
            },
            "type": "scatter"
           }
          ],
          "parcoords": [
           {
            "type": "parcoords",
            "line": {
             "colorbar": {
              "outlinewidth": 0,
              "ticks": ""
             }
            }
           }
          ],
          "scatterpolargl": [
           {
            "type": "scatterpolargl",
            "marker": {
             "colorbar": {
              "outlinewidth": 0,
              "ticks": ""
             }
            }
           }
          ],
          "bar": [
           {
            "error_x": {
             "color": "#2a3f5f"
            },
            "error_y": {
             "color": "#2a3f5f"
            },
            "marker": {
             "line": {
              "color": "#E5ECF6",
              "width": 0.5
             },
             "pattern": {
              "fillmode": "overlay",
              "size": 10,
              "solidity": 0.2
             }
            },
            "type": "bar"
           }
          ],
          "scattergeo": [
           {
            "type": "scattergeo",
            "marker": {
             "colorbar": {
              "outlinewidth": 0,
              "ticks": ""
             }
            }
           }
          ],
          "scatterpolar": [
           {
            "type": "scatterpolar",
            "marker": {
             "colorbar": {
              "outlinewidth": 0,
              "ticks": ""
             }
            }
           }
          ],
          "histogram": [
           {
            "marker": {
             "pattern": {
              "fillmode": "overlay",
              "size": 10,
              "solidity": 0.2
             }
            },
            "type": "histogram"
           }
          ],
          "scattergl": [
           {
            "type": "scattergl",
            "marker": {
             "colorbar": {
              "outlinewidth": 0,
              "ticks": ""
             }
            }
           }
          ],
          "scatter3d": [
           {
            "type": "scatter3d",
            "line": {
             "colorbar": {
              "outlinewidth": 0,
              "ticks": ""
             }
            },
            "marker": {
             "colorbar": {
              "outlinewidth": 0,
              "ticks": ""
             }
            }
           }
          ],
          "scattermap": [
           {
            "type": "scattermap",
            "marker": {
             "colorbar": {
              "outlinewidth": 0,
              "ticks": ""
             }
            }
           }
          ],
          "scattermapbox": [
           {
            "type": "scattermapbox",
            "marker": {
             "colorbar": {
              "outlinewidth": 0,
              "ticks": ""
             }
            }
           }
          ],
          "scatterternary": [
           {
            "type": "scatterternary",
            "marker": {
             "colorbar": {
              "outlinewidth": 0,
              "ticks": ""
             }
            }
           }
          ],
          "scattercarpet": [
           {
            "type": "scattercarpet",
            "marker": {
             "colorbar": {
              "outlinewidth": 0,
              "ticks": ""
             }
            }
           }
          ],
          "carpet": [
           {
            "aaxis": {
             "endlinecolor": "#2a3f5f",
             "gridcolor": "white",
             "linecolor": "white",
             "minorgridcolor": "white",
             "startlinecolor": "#2a3f5f"
            },
            "baxis": {
             "endlinecolor": "#2a3f5f",
             "gridcolor": "white",
             "linecolor": "white",
             "minorgridcolor": "white",
             "startlinecolor": "#2a3f5f"
            },
            "type": "carpet"
           }
          ],
          "table": [
           {
            "cells": {
             "fill": {
              "color": "#EBF0F8"
             },
             "line": {
              "color": "white"
             }
            },
            "header": {
             "fill": {
              "color": "#C8D4E3"
             },
             "line": {
              "color": "white"
             }
            },
            "type": "table"
           }
          ],
          "barpolar": [
           {
            "marker": {
             "line": {
              "color": "#E5ECF6",
              "width": 0.5
             },
             "pattern": {
              "fillmode": "overlay",
              "size": 10,
              "solidity": 0.2
             }
            },
            "type": "barpolar"
           }
          ],
          "pie": [
           {
            "automargin": true,
            "type": "pie"
           }
          ]
         },
         "layout": {
          "autotypenumbers": "strict",
          "colorway": [
           "#636efa",
           "#EF553B",
           "#00cc96",
           "#ab63fa",
           "#FFA15A",
           "#19d3f3",
           "#FF6692",
           "#B6E880",
           "#FF97FF",
           "#FECB52"
          ],
          "font": {
           "color": "#2a3f5f"
          },
          "hovermode": "closest",
          "hoverlabel": {
           "align": "left"
          },
          "paper_bgcolor": "white",
          "plot_bgcolor": "#E5ECF6",
          "polar": {
           "bgcolor": "#E5ECF6",
           "angularaxis": {
            "gridcolor": "white",
            "linecolor": "white",
            "ticks": ""
           },
           "radialaxis": {
            "gridcolor": "white",
            "linecolor": "white",
            "ticks": ""
           }
          },
          "ternary": {
           "bgcolor": "#E5ECF6",
           "aaxis": {
            "gridcolor": "white",
            "linecolor": "white",
            "ticks": ""
           },
           "baxis": {
            "gridcolor": "white",
            "linecolor": "white",
            "ticks": ""
           },
           "caxis": {
            "gridcolor": "white",
            "linecolor": "white",
            "ticks": ""
           }
          },
          "coloraxis": {
           "colorbar": {
            "outlinewidth": 0,
            "ticks": ""
           }
          },
          "colorscale": {
           "sequential": [
            [
             0.0,
             "#0d0887"
            ],
            [
             0.1111111111111111,
             "#46039f"
            ],
            [
             0.2222222222222222,
             "#7201a8"
            ],
            [
             0.3333333333333333,
             "#9c179e"
            ],
            [
             0.4444444444444444,
             "#bd3786"
            ],
            [
             0.5555555555555556,
             "#d8576b"
            ],
            [
             0.6666666666666666,
             "#ed7953"
            ],
            [
             0.7777777777777778,
             "#fb9f3a"
            ],
            [
             0.8888888888888888,
             "#fdca26"
            ],
            [
             1.0,
             "#f0f921"
            ]
           ],
           "sequentialminus": [
            [
             0.0,
             "#0d0887"
            ],
            [
             0.1111111111111111,
             "#46039f"
            ],
            [
             0.2222222222222222,
             "#7201a8"
            ],
            [
             0.3333333333333333,
             "#9c179e"
            ],
            [
             0.4444444444444444,
             "#bd3786"
            ],
            [
             0.5555555555555556,
             "#d8576b"
            ],
            [
             0.6666666666666666,
             "#ed7953"
            ],
            [
             0.7777777777777778,
             "#fb9f3a"
            ],
            [
             0.8888888888888888,
             "#fdca26"
            ],
            [
             1.0,
             "#f0f921"
            ]
           ],
           "diverging": [
            [
             0,
             "#8e0152"
            ],
            [
             0.1,
             "#c51b7d"
            ],
            [
             0.2,
             "#de77ae"
            ],
            [
             0.3,
             "#f1b6da"
            ],
            [
             0.4,
             "#fde0ef"
            ],
            [
             0.5,
             "#f7f7f7"
            ],
            [
             0.6,
             "#e6f5d0"
            ],
            [
             0.7,
             "#b8e186"
            ],
            [
             0.8,
             "#7fbc41"
            ],
            [
             0.9,
             "#4d9221"
            ],
            [
             1,
             "#276419"
            ]
           ]
          },
          "xaxis": {
           "gridcolor": "white",
           "linecolor": "white",
           "ticks": "",
           "title": {
            "standoff": 15
           },
           "zerolinecolor": "white",
           "automargin": true,
           "zerolinewidth": 2
          },
          "yaxis": {
           "gridcolor": "white",
           "linecolor": "white",
           "ticks": "",
           "title": {
            "standoff": 15
           },
           "zerolinecolor": "white",
           "automargin": true,
           "zerolinewidth": 2
          },
          "scene": {
           "xaxis": {
            "backgroundcolor": "#E5ECF6",
            "gridcolor": "white",
            "linecolor": "white",
            "showbackground": true,
            "ticks": "",
            "zerolinecolor": "white",
            "gridwidth": 2
           },
           "yaxis": {
            "backgroundcolor": "#E5ECF6",
            "gridcolor": "white",
            "linecolor": "white",
            "showbackground": true,
            "ticks": "",
            "zerolinecolor": "white",
            "gridwidth": 2
           },
           "zaxis": {
            "backgroundcolor": "#E5ECF6",
            "gridcolor": "white",
            "linecolor": "white",
            "showbackground": true,
            "ticks": "",
            "zerolinecolor": "white",
            "gridwidth": 2
           }
          },
          "shapedefaults": {
           "line": {
            "color": "#2a3f5f"
           }
          },
          "annotationdefaults": {
           "arrowcolor": "#2a3f5f",
           "arrowhead": 0,
           "arrowwidth": 1
          },
          "geo": {
           "bgcolor": "white",
           "landcolor": "#E5ECF6",
           "subunitcolor": "white",
           "showland": true,
           "showlakes": true,
           "lakecolor": "white"
          },
          "title": {
           "x": 0.05
          },
          "mapbox": {
           "style": "light"
          }
         }
        },
        "scene": {
         "domain": {
          "x": [
           0.0,
           1.0
          ],
          "y": [
           0.0,
           1.0
          ]
         },
         "xaxis": {
          "title": {
           "text": "x1_square"
          }
         },
         "yaxis": {
          "title": {
           "text": "x2_square"
          }
         },
         "zaxis": {
          "title": {
           "text": "x1x2"
          }
         }
        },
        "coloraxis": {
         "colorbar": {
          "title": {
           "text": "Y"
          }
         },
         "colorscale": [
          [
           0.0,
           "#0d0887"
          ],
          [
           0.1111111111111111,
           "#46039f"
          ],
          [
           0.2222222222222222,
           "#7201a8"
          ],
          [
           0.3333333333333333,
           "#9c179e"
          ],
          [
           0.4444444444444444,
           "#bd3786"
          ],
          [
           0.5555555555555556,
           "#d8576b"
          ],
          [
           0.6666666666666666,
           "#ed7953"
          ],
          [
           0.7777777777777778,
           "#fb9f3a"
          ],
          [
           0.8888888888888888,
           "#fdca26"
          ],
          [
           1.0,
           "#f0f921"
          ]
         ]
        },
        "legend": {
         "tracegroupgap": 0
        },
        "margin": {
         "t": 60
        }
       },
       "config": {
        "plotlyServerURL": "https://plot.ly"
       }
      }
     },
     "metadata": {},
     "output_type": "display_data",
     "jetTransient": {
      "display_id": null
     }
    }
   ],
   "execution_count": 39
  },
  {
   "metadata": {
    "ExecuteTime": {
     "end_time": "2025-09-07T07:43:48.960762Z",
     "start_time": "2025-09-07T07:43:48.947212Z"
    }
   },
   "cell_type": "code",
   "source": [
    "from sklearn.model_selection import train_test_split\n",
    "X_train, X_test, y_train, y_test = train_test_split(X, y, test_size=0.2, random_state=123)\n"
   ],
   "id": "96aceaaa41d97ff1",
   "outputs": [],
   "execution_count": 41
  },
  {
   "metadata": {
    "ExecuteTime": {
     "end_time": "2025-09-07T07:43:51.945244Z",
     "start_time": "2025-09-07T07:43:51.885143Z"
    }
   },
   "cell_type": "code",
   "source": [
    "from sklearn.svm import SVC\n",
    "clf = SVC(kernel=\"linear\")\n",
    "clf.fit(X_train, y_train)\n",
    "y_pred = clf.predict(X_test)\n",
    "from sklearn.metrics import confusion_matrix\n",
    "cm = confusion_matrix(y_test, y_pred)"
   ],
   "id": "6338bc9163db2ad8",
   "outputs": [],
   "execution_count": 42
  },
  {
   "metadata": {
    "ExecuteTime": {
     "end_time": "2025-09-07T07:44:04.027427Z",
     "start_time": "2025-09-07T07:44:04.017368Z"
    }
   },
   "cell_type": "code",
   "source": "cm",
   "id": "51bd0b23e445d38e",
   "outputs": [
    {
     "data": {
      "text/plain": [
       "array([[39,  0],\n",
       "       [ 0, 41]])"
      ]
     },
     "execution_count": 43,
     "metadata": {},
     "output_type": "execute_result"
    }
   ],
   "execution_count": 43
  }
 ],
 "metadata": {
  "kernelspec": {
   "display_name": "Python 3",
   "language": "python",
   "name": "python3"
  },
  "language_info": {
   "codemirror_mode": {
    "name": "ipython",
    "version": 2
   },
   "file_extension": ".py",
   "mimetype": "text/x-python",
   "name": "python",
   "nbconvert_exporter": "python",
   "pygments_lexer": "ipython2",
   "version": "2.7.6"
  }
 },
 "nbformat": 4,
 "nbformat_minor": 5
}
