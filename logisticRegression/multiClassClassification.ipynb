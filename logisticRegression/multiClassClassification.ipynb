{
 "cells": [
  {
   "cell_type": "code",
   "id": "initial_id",
   "metadata": {
    "collapsed": true,
    "ExecuteTime": {
     "end_time": "2025-08-30T06:34:47.406050Z",
     "start_time": "2025-08-30T06:34:46.331949Z"
    }
   },
   "source": [
    "import numpy as np\n",
    "import pandas as pd\n",
    "import matplotlib.pyplot as plt\n",
    "%matplotlib inline"
   ],
   "outputs": [],
   "execution_count": 1
  },
  {
   "metadata": {
    "ExecuteTime": {
     "end_time": "2025-08-30T07:28:18.163019Z",
     "start_time": "2025-08-30T07:28:18.129328Z"
    }
   },
   "cell_type": "code",
   "source": [
    "from sklearn.datasets import make_classification\n",
    "X, y = make_classification(n_samples=1000, n_features=10, n_informative=6, n_classes=3, random_state=42)\n"
   ],
   "id": "f5dc563069b2ce70",
   "outputs": [],
   "execution_count": 41
  },
  {
   "metadata": {
    "ExecuteTime": {
     "end_time": "2025-08-30T07:27:31.703424Z",
     "start_time": "2025-08-30T07:27:31.675621Z"
    }
   },
   "cell_type": "code",
   "source": "pd.DataFrame(X)",
   "id": "b1bd47f441c4e7bf",
   "outputs": [
    {
     "data": {
      "text/plain": [
       "            0         1         2         3         4         5         6  \\\n",
       "0   -2.326039 -0.595866  0.288028 -0.935398 -2.727730 -1.137942 -1.972089   \n",
       "1   -1.037373  1.233167  1.057801  0.110745  0.712121  0.066254 -1.476657   \n",
       "2    0.546288 -2.615066  0.059692  1.729214 -0.481044 -1.670810  0.193406   \n",
       "3   -1.597650  0.138824 -1.833706 -0.418742 -0.333743 -0.485186  0.144310   \n",
       "4   -1.109324  0.111938 -0.044607  0.666859  0.014627 -0.865629 -0.477840   \n",
       "..        ...       ...       ...       ...       ...       ...       ...   \n",
       "995 -0.422191  1.615994  0.058213 -1.158975  0.500720  0.228342  0.208854   \n",
       "996 -2.313424 -0.980248 -0.297796  0.718126 -1.758247 -2.294704  0.102646   \n",
       "997 -2.182605  0.646046  0.475335 -1.184468 -1.848190 -0.615037 -0.458025   \n",
       "998 -1.310378  1.884613 -1.721078 -1.031393 -0.795863 -0.241995  0.363004   \n",
       "999 -2.360405  2.678457 -0.238753 -1.103114 -2.727259 -3.726012 -1.320077   \n",
       "\n",
       "            7         8         9  \n",
       "0    1.248532  3.093059 -1.056513  \n",
       "1   -2.647412  0.806808  1.961693  \n",
       "2    3.377495  0.665429  0.207241  \n",
       "3   -2.333398 -1.295864  2.348679  \n",
       "4   -1.118485 -0.294174  1.243184  \n",
       "..        ...       ...       ...  \n",
       "995 -2.977753  1.161107  2.767498  \n",
       "996  0.612496  1.555831  0.781524  \n",
       "997 -1.119284 -1.401048 -1.026829  \n",
       "998 -1.668708  0.572560 -0.754304  \n",
       "999 -1.228387  0.433864 -0.893080  \n",
       "\n",
       "[1000 rows x 10 columns]"
      ],
      "text/html": [
       "<div>\n",
       "<style scoped>\n",
       "    .dataframe tbody tr th:only-of-type {\n",
       "        vertical-align: middle;\n",
       "    }\n",
       "\n",
       "    .dataframe tbody tr th {\n",
       "        vertical-align: top;\n",
       "    }\n",
       "\n",
       "    .dataframe thead th {\n",
       "        text-align: right;\n",
       "    }\n",
       "</style>\n",
       "<table border=\"1\" class=\"dataframe\">\n",
       "  <thead>\n",
       "    <tr style=\"text-align: right;\">\n",
       "      <th></th>\n",
       "      <th>0</th>\n",
       "      <th>1</th>\n",
       "      <th>2</th>\n",
       "      <th>3</th>\n",
       "      <th>4</th>\n",
       "      <th>5</th>\n",
       "      <th>6</th>\n",
       "      <th>7</th>\n",
       "      <th>8</th>\n",
       "      <th>9</th>\n",
       "    </tr>\n",
       "  </thead>\n",
       "  <tbody>\n",
       "    <tr>\n",
       "      <th>0</th>\n",
       "      <td>-2.326039</td>\n",
       "      <td>-0.595866</td>\n",
       "      <td>0.288028</td>\n",
       "      <td>-0.935398</td>\n",
       "      <td>-2.727730</td>\n",
       "      <td>-1.137942</td>\n",
       "      <td>-1.972089</td>\n",
       "      <td>1.248532</td>\n",
       "      <td>3.093059</td>\n",
       "      <td>-1.056513</td>\n",
       "    </tr>\n",
       "    <tr>\n",
       "      <th>1</th>\n",
       "      <td>-1.037373</td>\n",
       "      <td>1.233167</td>\n",
       "      <td>1.057801</td>\n",
       "      <td>0.110745</td>\n",
       "      <td>0.712121</td>\n",
       "      <td>0.066254</td>\n",
       "      <td>-1.476657</td>\n",
       "      <td>-2.647412</td>\n",
       "      <td>0.806808</td>\n",
       "      <td>1.961693</td>\n",
       "    </tr>\n",
       "    <tr>\n",
       "      <th>2</th>\n",
       "      <td>0.546288</td>\n",
       "      <td>-2.615066</td>\n",
       "      <td>0.059692</td>\n",
       "      <td>1.729214</td>\n",
       "      <td>-0.481044</td>\n",
       "      <td>-1.670810</td>\n",
       "      <td>0.193406</td>\n",
       "      <td>3.377495</td>\n",
       "      <td>0.665429</td>\n",
       "      <td>0.207241</td>\n",
       "    </tr>\n",
       "    <tr>\n",
       "      <th>3</th>\n",
       "      <td>-1.597650</td>\n",
       "      <td>0.138824</td>\n",
       "      <td>-1.833706</td>\n",
       "      <td>-0.418742</td>\n",
       "      <td>-0.333743</td>\n",
       "      <td>-0.485186</td>\n",
       "      <td>0.144310</td>\n",
       "      <td>-2.333398</td>\n",
       "      <td>-1.295864</td>\n",
       "      <td>2.348679</td>\n",
       "    </tr>\n",
       "    <tr>\n",
       "      <th>4</th>\n",
       "      <td>-1.109324</td>\n",
       "      <td>0.111938</td>\n",
       "      <td>-0.044607</td>\n",
       "      <td>0.666859</td>\n",
       "      <td>0.014627</td>\n",
       "      <td>-0.865629</td>\n",
       "      <td>-0.477840</td>\n",
       "      <td>-1.118485</td>\n",
       "      <td>-0.294174</td>\n",
       "      <td>1.243184</td>\n",
       "    </tr>\n",
       "    <tr>\n",
       "      <th>...</th>\n",
       "      <td>...</td>\n",
       "      <td>...</td>\n",
       "      <td>...</td>\n",
       "      <td>...</td>\n",
       "      <td>...</td>\n",
       "      <td>...</td>\n",
       "      <td>...</td>\n",
       "      <td>...</td>\n",
       "      <td>...</td>\n",
       "      <td>...</td>\n",
       "    </tr>\n",
       "    <tr>\n",
       "      <th>995</th>\n",
       "      <td>-0.422191</td>\n",
       "      <td>1.615994</td>\n",
       "      <td>0.058213</td>\n",
       "      <td>-1.158975</td>\n",
       "      <td>0.500720</td>\n",
       "      <td>0.228342</td>\n",
       "      <td>0.208854</td>\n",
       "      <td>-2.977753</td>\n",
       "      <td>1.161107</td>\n",
       "      <td>2.767498</td>\n",
       "    </tr>\n",
       "    <tr>\n",
       "      <th>996</th>\n",
       "      <td>-2.313424</td>\n",
       "      <td>-0.980248</td>\n",
       "      <td>-0.297796</td>\n",
       "      <td>0.718126</td>\n",
       "      <td>-1.758247</td>\n",
       "      <td>-2.294704</td>\n",
       "      <td>0.102646</td>\n",
       "      <td>0.612496</td>\n",
       "      <td>1.555831</td>\n",
       "      <td>0.781524</td>\n",
       "    </tr>\n",
       "    <tr>\n",
       "      <th>997</th>\n",
       "      <td>-2.182605</td>\n",
       "      <td>0.646046</td>\n",
       "      <td>0.475335</td>\n",
       "      <td>-1.184468</td>\n",
       "      <td>-1.848190</td>\n",
       "      <td>-0.615037</td>\n",
       "      <td>-0.458025</td>\n",
       "      <td>-1.119284</td>\n",
       "      <td>-1.401048</td>\n",
       "      <td>-1.026829</td>\n",
       "    </tr>\n",
       "    <tr>\n",
       "      <th>998</th>\n",
       "      <td>-1.310378</td>\n",
       "      <td>1.884613</td>\n",
       "      <td>-1.721078</td>\n",
       "      <td>-1.031393</td>\n",
       "      <td>-0.795863</td>\n",
       "      <td>-0.241995</td>\n",
       "      <td>0.363004</td>\n",
       "      <td>-1.668708</td>\n",
       "      <td>0.572560</td>\n",
       "      <td>-0.754304</td>\n",
       "    </tr>\n",
       "    <tr>\n",
       "      <th>999</th>\n",
       "      <td>-2.360405</td>\n",
       "      <td>2.678457</td>\n",
       "      <td>-0.238753</td>\n",
       "      <td>-1.103114</td>\n",
       "      <td>-2.727259</td>\n",
       "      <td>-3.726012</td>\n",
       "      <td>-1.320077</td>\n",
       "      <td>-1.228387</td>\n",
       "      <td>0.433864</td>\n",
       "      <td>-0.893080</td>\n",
       "    </tr>\n",
       "  </tbody>\n",
       "</table>\n",
       "<p>1000 rows × 10 columns</p>\n",
       "</div>"
      ]
     },
     "execution_count": 36,
     "metadata": {},
     "output_type": "execute_result"
    }
   ],
   "execution_count": 36
  },
  {
   "metadata": {
    "ExecuteTime": {
     "end_time": "2025-08-30T07:28:23.318950Z",
     "start_time": "2025-08-30T07:28:23.313868Z"
    }
   },
   "cell_type": "code",
   "source": [
    "from sklearn.model_selection import train_test_split\n",
    "X_train, X_test, y_train, y_test = train_test_split(X, y, test_size=0.3, random_state=42)\n"
   ],
   "id": "461f5641a5cbff85",
   "outputs": [],
   "execution_count": 42
  },
  {
   "metadata": {
    "ExecuteTime": {
     "end_time": "2025-08-30T07:28:25.264247Z",
     "start_time": "2025-08-30T07:28:25.223681Z"
    }
   },
   "cell_type": "code",
   "source": [
    "from sklearn.linear_model import LogisticRegression\n",
    "from sklearn.preprocessing import StandardScaler\n",
    "\n",
    "scaler = StandardScaler()\n",
    "X_train_scaled = scaler.fit_transform(X_train)\n",
    "X_test_scaled = scaler.transform(X_test)\n",
    "\n",
    "lr = LogisticRegression()\n",
    "lr.fit(X_train_scaled, y_train)\n",
    "y_pred = lr.predict(X_test_scaled)"
   ],
   "id": "f4bc651fb316ef78",
   "outputs": [],
   "execution_count": 43
  },
  {
   "metadata": {
    "ExecuteTime": {
     "end_time": "2025-08-30T07:28:26.617944Z",
     "start_time": "2025-08-30T07:28:26.609344Z"
    }
   },
   "cell_type": "code",
   "source": [
    "from sklearn.metrics import accuracy_score\n",
    "accuracy_score(y_test, y_pred)\n"
   ],
   "id": "c2770ba54249c3fe",
   "outputs": [
    {
     "data": {
      "text/plain": [
       "0.5333333333333333"
      ]
     },
     "execution_count": 44,
     "metadata": {},
     "output_type": "execute_result"
    }
   ],
   "execution_count": 44
  },
  {
   "metadata": {
    "ExecuteTime": {
     "end_time": "2025-08-30T07:27:48.069502Z",
     "start_time": "2025-08-30T07:27:48.057274Z"
    }
   },
   "cell_type": "code",
   "source": [
    "from sklearn.metrics import confusion_matrix\n",
    "confusion_matrix(y_test, y_pred)"
   ],
   "id": "f449c966d8ccfb52",
   "outputs": [
    {
     "data": {
      "text/plain": [
       "array([[36,  7,  5,  3, 10],\n",
       "       [ 9, 45,  3,  5,  3],\n",
       "       [ 9, 13, 42,  0,  2],\n",
       "       [ 4, 10, 13, 22,  8],\n",
       "       [ 9,  3,  8,  7, 24]])"
      ]
     },
     "execution_count": 40,
     "metadata": {},
     "output_type": "execute_result"
    }
   ],
   "execution_count": 40
  }
 ],
 "metadata": {
  "kernelspec": {
   "display_name": "Python 3",
   "language": "python",
   "name": "python3"
  },
  "language_info": {
   "codemirror_mode": {
    "name": "ipython",
    "version": 2
   },
   "file_extension": ".py",
   "mimetype": "text/x-python",
   "name": "python",
   "nbconvert_exporter": "python",
   "pygments_lexer": "ipython2",
   "version": "2.7.6"
  }
 },
 "nbformat": 4,
 "nbformat_minor": 5
}
